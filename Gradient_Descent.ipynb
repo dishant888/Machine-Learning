{
 "cells": [
  {
   "cell_type": "markdown",
   "id": "b807936d-1fe6-47d3-8b63-98a4d0b1da7b",
   "metadata": {},
   "source": [
    "# Gradient Descent"
   ]
  },
  {
   "cell_type": "markdown",
   "id": "57a3e14b-ac83-446c-93e2-70026f935367",
   "metadata": {},
   "source": [
    "An algorithm to find the best fit line for a given set of datapoints."
   ]
  },
  {
   "cell_type": "markdown",
   "id": "fc17f498-fae2-454a-b840-79fbbdfdb642",
   "metadata": {},
   "source": [
    "In the equation y = mx + b, it will help us to find the correct values of m (aka weights) and b (aka intercept or bias)"
   ]
  },
  {
   "cell_type": "markdown",
   "id": "5b6e3a83-b06f-4571-b072-86f526e63d8d",
   "metadata": {},
   "source": [
    "Step 1: Assign random values to the m and b."
   ]
  },
  {
   "cell_type": "markdown",
   "id": "880fbfcb-182b-4c2e-a4b4-f910393a0370",
   "metadata": {},
   "source": [
    "Step 2: Make predictions (y\\`) using the randomly initialized values of m and b."
   ]
  },
  {
   "cell_type": "markdown",
   "id": "3e404886-209a-436a-b17b-9479bda6ccb6",
   "metadata": {},
   "source": [
    "Step 3: Calculate the loss (error) between y and y\\` (using a cost function such as MAE, MSE etc) over all the data points, sum it up and calculate their average"
   ]
  },
  {
   "cell_type": "markdown",
   "id": "12c88e9c-6ecf-4dc0-a854-c389210d5c1e",
   "metadata": {
    "tags": []
   },
   "source": [
    "\\begin{equation}\n",
    "MSE = \\frac{1}{n} \\sum_{i = 1}^{n}(y`_{i} - (mx_{i} + b))^{2}\n",
    "\\end{equation}\n",
    "\\begin{equation}\n",
    "MAE = \\frac{1}{n} \\sum_{i = 1}^{n}|(y`_{i} - (mx_{i} + b))|\n",
    "\\end{equation}"
   ]
  },
  {
   "cell_type": "markdown",
   "id": "c87cf8bb-2bef-4246-8e60-ada9e7d8428d",
   "metadata": {},
   "source": [
    "Step 4: Update the parameters in the negative direction of the gradient (m = m - learning rate * derivative of error function w.r.t. m) <br> and (b = b - learning rate * derivative of error function w.r.t. b)\n",
    "<br>\n",
    "Here the learning rate can be seen as the size of the step towards the minima (too large step can skip the minima)"
   ]
  },
  {
   "cell_type": "markdown",
   "id": "b16af7a6-5070-4e96-9da0-77776e30a89e",
   "metadata": {},
   "source": [
    "#### Calculating the derivatives"
   ]
  },
  {
   "cell_type": "markdown",
   "id": "d0546416-f39f-4cfc-b2d2-4124735e12a2",
   "metadata": {},
   "source": [
    "Derivative of the error function w.r.t. m:"
   ]
  },
  {
   "cell_type": "markdown",
   "id": "981fd431-8d74-4070-a5d1-bc4f6f06b718",
   "metadata": {},
   "source": [
    "\\begin{equation}\n",
    "\\frac{\\mathrm{d}MSE}{\\mathrm{d}m} = -\\frac{2}{n} \\sum_{i = 1}^{n} x_{i} (y`_{i} - (mx_{i} + b))\n",
    "\\end{equation}"
   ]
  },
  {
   "cell_type": "markdown",
   "id": "991dd654-cfc8-48e1-92d1-5727f762eb84",
   "metadata": {},
   "source": [
    "Derivative of the error function w.r.t. b:"
   ]
  },
  {
   "cell_type": "markdown",
   "id": "9eedf2e9-cd1c-4e73-9caa-c5e0da44bd8e",
   "metadata": {},
   "source": [
    "\\begin{equation}\n",
    "\\frac{\\mathrm{d}MSE}{\\mathrm{d}b} = -\\frac{2}{n} \\sum_{i = 1}^{n} (y`_{i} - (mx_{i} + b))\n",
    "\\end{equation}"
   ]
  },
  {
   "cell_type": "markdown",
   "id": "26a0812c-17e2-48ca-8528-6278e43afbb4",
   "metadata": {
    "tags": []
   },
   "source": [
    "Repeat Step 2,3 and 4 untill convergence"
   ]
  },
  {
   "cell_type": "code",
   "execution_count": 1,
   "id": "78d96a85-dee6-43cd-a30b-f72fc22d5dab",
   "metadata": {
    "tags": []
   },
   "outputs": [],
   "source": [
    "import numpy as np\n",
    "import matplotlib.pyplot as plt\n",
    "import random\n",
    "import pandas as pd"
   ]
  },
  {
   "cell_type": "markdown",
   "id": "81ce569e-4904-4a8c-a0cb-b3327d5cff77",
   "metadata": {},
   "source": [
    "## Gradient Descent for Regression"
   ]
  },
  {
   "cell_type": "code",
   "execution_count": 2,
   "id": "347f814a-11b1-4fa2-bc76-82ffcd580ee8",
   "metadata": {
    "tags": []
   },
   "outputs": [],
   "source": [
    "def MSE(y_true, y_pred):\n",
    "        y_residual = y_true - y_pred\n",
    "        return np.sum(np.dot(np.transpose(y_residual), y_residual)) / len (y_residual)"
   ]
  },
  {
   "cell_type": "code",
   "execution_count": 36,
   "id": "36cc98e2-7d85-4ce7-9672-82d4ea2be50f",
   "metadata": {},
   "outputs": [],
   "source": [
    "def gradient_descent(X, y, epochs = 10, learning_rate = 0.001):\n",
    "    weights = np.random.rand(X.shape[1])\n",
    "    bias = random.random()\n",
    "    n = y.shape[0]\n",
    "\n",
    "    for epoch in range(epochs):\n",
    "        \n",
    "        y_pred = np.dot(weights, np.transpose(X)) + bias\n",
    "        cost = np.mean(np.square(y - y_pred)) # MSE (Mean Squared Error)\\\n",
    "        weights_derivative = -(2 / n) * (np.transpose(X).dot(y - y_pred))\n",
    "        bias_derivative = -(2 / n) * np.sum(y - y_pred)\n",
    "        \n",
    "        weights = weights - learning_rate * weights_derivative\n",
    "        bias = bias - learning_rate * bias_derivative\n",
    "        \n",
    "        if (epoch + 1) % 100 == 0: \n",
    "            print(f'Weights: {weights.values}, Bias: {bias}, Cost:{cost}, Iteration = {epoch}')\n",
    "        plt.plot(np.dot(weights, np.transpose(X)) + bias, color = 'green') \n",
    "            \n",
    "    plt.plot(np.dot(weights, np.transpose(X)) + bias, color = 'red')    \n",
    "    plt.plot(y, linestyle = 'None', marker = 'o', color = 'black')\n",
    "    return weights, bias, cost"
   ]
  },
  {
   "cell_type": "code",
   "execution_count": 17,
   "id": "5b52c87d-e2c7-4af7-8fd3-c326a9e75841",
   "metadata": {
    "tags": []
   },
   "outputs": [],
   "source": [
    "df = pd.DataFrame({'x1': np.arange(1, 9, 2), 'x2': np.arange(2, 10, 2)})\n",
    "df['y'] = df['x1'] * 2 + df['x2'] * 3 + 4"
   ]
  },
  {
   "cell_type": "code",
   "execution_count": 18,
   "id": "d0def2f5-1370-4163-819c-cc6bdbd178db",
   "metadata": {
    "tags": []
   },
   "outputs": [
    {
     "data": {
      "text/html": [
       "<div>\n",
       "<style scoped>\n",
       "    .dataframe tbody tr th:only-of-type {\n",
       "        vertical-align: middle;\n",
       "    }\n",
       "\n",
       "    .dataframe tbody tr th {\n",
       "        vertical-align: top;\n",
       "    }\n",
       "\n",
       "    .dataframe thead th {\n",
       "        text-align: right;\n",
       "    }\n",
       "</style>\n",
       "<table border=\"1\" class=\"dataframe\">\n",
       "  <thead>\n",
       "    <tr style=\"text-align: right;\">\n",
       "      <th></th>\n",
       "      <th>x1</th>\n",
       "      <th>x2</th>\n",
       "      <th>y</th>\n",
       "    </tr>\n",
       "  </thead>\n",
       "  <tbody>\n",
       "    <tr>\n",
       "      <th>0</th>\n",
       "      <td>1</td>\n",
       "      <td>2</td>\n",
       "      <td>12</td>\n",
       "    </tr>\n",
       "    <tr>\n",
       "      <th>1</th>\n",
       "      <td>3</td>\n",
       "      <td>4</td>\n",
       "      <td>22</td>\n",
       "    </tr>\n",
       "    <tr>\n",
       "      <th>2</th>\n",
       "      <td>5</td>\n",
       "      <td>6</td>\n",
       "      <td>32</td>\n",
       "    </tr>\n",
       "    <tr>\n",
       "      <th>3</th>\n",
       "      <td>7</td>\n",
       "      <td>8</td>\n",
       "      <td>42</td>\n",
       "    </tr>\n",
       "  </tbody>\n",
       "</table>\n",
       "</div>"
      ],
      "text/plain": [
       "   x1  x2   y\n",
       "0   1   2  12\n",
       "1   3   4  22\n",
       "2   5   6  32\n",
       "3   7   8  42"
      ]
     },
     "execution_count": 18,
     "metadata": {},
     "output_type": "execute_result"
    }
   ],
   "source": [
    "df"
   ]
  },
  {
   "cell_type": "code",
   "execution_count": 19,
   "id": "2aeb42fc-00ac-46fa-89a7-bd90c572d999",
   "metadata": {
    "tags": []
   },
   "outputs": [
    {
     "data": {
      "text/plain": [
       "[<matplotlib.lines.Line2D at 0x7ff4ca789fc0>]"
      ]
     },
     "execution_count": 19,
     "metadata": {},
     "output_type": "execute_result"
    },
    {
     "data": {
      "image/png": "[encoded data removed]",
      "text/plain": [
       "<Figure size 640x480 with 1 Axes>"
      ]
     },
     "metadata": {},
     "output_type": "display_data"
    }
   ],
   "source": [
    "plt.plot(df['y'], marker = 'o', linestyle = 'None')"
   ]
  },
  {
   "cell_type": "code",
   "execution_count": 39,
   "id": "746b4ddd-05d4-4e62-a5d5-b26fd7f718d7",
   "metadata": {
    "tags": []
   },
   "outputs": [
    {
     "name": "stdout",
     "output_type": "stream",
     "text": [
      "Weights: [2.0249512  3.31525454], Bias: 1.9568813257271354, Cost:0.7209278497424162, Iteration = 99\n",
      "Weights: [1.69777618 3.50377415], Bias: 2.4725759459705836, Cost:0.25303204685078623, Iteration = 199\n",
      "Weights: [1.50394573 3.61546005], Bias: 2.778092300802469, Cost:0.08880946513076732, Iteration = 299\n",
      "Weights: [1.38911348 3.68162687], Bias: 2.9590913638248795, Cost:0.031170443408159502, Iteration = 399\n",
      "Weights: [1.32108266 3.72082651], Bias: 3.0663218288944765, Cost:0.010940236390688803, Iteration = 499\n",
      "Weights: [1.28077871 3.74404981], Bias: 3.1298490784118855, Cost:0.003839816159073902, Iteration = 599\n",
      "Weights: [1.25690118 3.75780815], Bias: 3.167484944568277, Cost:0.0013477028840103288, Iteration = 699\n",
      "Weights: [1.24275526 3.76595909], Bias: 3.1897818082307556, Cost:0.00047301823533344394, Iteration = 799\n",
      "Weights: [1.23437469 3.770788  ], Bias: 3.2029912857838245, Cost:0.0001660204586727381, Iteration = 899\n"
     ]
    },
    {
     "data": {
      "image/png": "[encoded data removed]",
      "text/plain": [
       "<Figure size 640x480 with 1 Axes>"
      ]
     },
     "metadata": {},
     "output_type": "display_data"
    }
   ],
   "source": [
    "w, b, c = gradient_descent(df.drop('y', axis = 1), df['y'], 900, 0.009)"
   ]
  },
  {
   "cell_type": "code",
   "execution_count": 23,
   "id": "8069b0ac-20ee-4dc1-8a89-9a83d88c8538",
   "metadata": {},
   "outputs": [
    {
     "data": {
      "text/plain": [
       "array([11.97759772, 21.98858224, 31.99956677, 42.0105513 ])"
      ]
     },
     "execution_count": 23,
     "metadata": {},
     "output_type": "execute_result"
    }
   ],
   "source": [
    "np.dot(w, np.transpose(df.drop('y', axis = 1))) + b"
   ]
  },
  {
   "cell_type": "code",
   "execution_count": null,
   "id": "8d216050-0ff2-4fbc-b205-f5910db88473",
   "metadata": {},
   "outputs": [],
   "source": []
  }
 ],
 "metadata": {
  "kernelspec": {
   "display_name": "Python 3 (ipykernel)",
   "language": "python",
   "name": "python3"
  },
  "language_info": {
   "codemirror_mode": {
    "name": "ipython",
    "version": 3
   },
   "file_extension": ".py",
   "mimetype": "text/x-python",
   "name": "python",
   "nbconvert_exporter": "python",
   "pygments_lexer": "ipython3",
   "version": "3.10.6"
  }
 },
 "nbformat": 4,
 "nbformat_minor": 5
}
