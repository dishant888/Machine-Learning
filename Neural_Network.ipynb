{
 "cells": [
  {
   "cell_type": "code",
   "execution_count": 1,
   "id": "c5952fd1-8b94-48df-be02-3be7f2a7345c",
   "metadata": {
    "tags": []
   },
   "outputs": [
    {
     "name": "stderr",
     "output_type": "stream",
     "text": [
      "2023-04-20 11:54:20.276338: I tensorflow/tsl/cuda/cudart_stub.cc:28] Could not find cuda drivers on your machine, GPU will not be used.\n",
      "2023-04-20 11:54:20.300877: I tensorflow/tsl/cuda/cudart_stub.cc:28] Could not find cuda drivers on your machine, GPU will not be used.\n",
      "2023-04-20 11:54:20.301498: I tensorflow/core/platform/cpu_feature_guard.cc:182] This TensorFlow binary is optimized to use available CPU instructions in performance-critical operations.\n",
      "To enable the following instructions: AVX2 AVX_VNNI FMA, in other operations, rebuild TensorFlow with the appropriate compiler flags.\n",
      "2023-04-20 11:54:20.761883: W tensorflow/compiler/tf2tensorrt/utils/py_utils.cc:38] TF-TRT Warning: Could not find TensorRT\n"
     ]
    }
   ],
   "source": [
    "import tensorflow as tf\n",
    "import matplotlib.pyplot as plt\n",
    "import numpy as np"
   ]
  },
  {
   "cell_type": "code",
   "execution_count": 2,
   "id": "b6ba6ab5-e34a-4b29-b994-76f452b68552",
   "metadata": {
    "tags": []
   },
   "outputs": [
    {
     "data": {
      "text/plain": [
       "[PhysicalDevice(name='/physical_device:CPU:0', device_type='CPU')]"
      ]
     },
     "execution_count": 2,
     "metadata": {},
     "output_type": "execute_result"
    }
   ],
   "source": [
    "tf.config.list_physical_devices()"
   ]
  },
  {
   "cell_type": "code",
   "execution_count": 3,
   "id": "d56175fe-e102-41f2-a63d-a7182b55d683",
   "metadata": {
    "tags": []
   },
   "outputs": [],
   "source": [
    "(X_train, y_train), (X_test, y_test) = tf.keras.datasets.mnist.load_data()"
   ]
  },
  {
   "cell_type": "code",
   "execution_count": 4,
   "id": "b0133dc3-7e34-4816-83e0-ebf932d0a79d",
   "metadata": {
    "tags": []
   },
   "outputs": [
    {
     "name": "stdout",
     "output_type": "stream",
     "text": [
      "Train size: 60000\n",
      "Test size: 10000\n",
      "Size of image: (28, 28)\n"
     ]
    }
   ],
   "source": [
    "print(f'Train size: {len(X_train)}')\n",
    "print(f'Test size: {len(X_test)}')\n",
    "print(f'Size of image: {X_train[0].shape}')"
   ]
  },
  {
   "cell_type": "code",
   "execution_count": 5,
   "id": "9f5180fb-8240-4a55-9397-a378cbb65516",
   "metadata": {
    "tags": []
   },
   "outputs": [
    {
     "name": "stdout",
     "output_type": "stream",
     "text": [
      "Printing an example image: \n"
     ]
    },
    {
     "data": {
      "text/plain": [
       "<matplotlib.image.AxesImage at 0x7fd3c85c9e10>"
      ]
     },
     "execution_count": 5,
     "metadata": {},
     "output_type": "execute_result"
    },
    {
     "data": {
      "image/png": "[encoded data removed]",
      "text/plain": [
       "<Figure size 640x480 with 1 Axes>"
      ]
     },
     "metadata": {},
     "output_type": "display_data"
    }
   ],
   "source": [
    "print(f'Printing an example image: ')\n",
    "plt.imshow(X_train[2])"
   ]
  },
  {
   "cell_type": "code",
   "execution_count": 6,
   "id": "0f60a388-cb26-42b1-ac98-8779aa79398c",
   "metadata": {
    "tags": []
   },
   "outputs": [],
   "source": [
    "def SingleLayerModel(X_train, y_train):\n",
    "    # Build the model\n",
    "    model = tf.keras.Sequential([\n",
    "        # Input shape is the size of the image 28 x 28, this layer will flatten it into 28x28 = 784\n",
    "        tf.keras.layers.Flatten(input_shape = (28, 28)),\n",
    "        # Single layer, Dense means all the neurons are interconnected with previous layer, units = number of neurons (10 in this case for 10 classes) \n",
    "        tf.keras.layers.Dense(units = 10, activation = 'sigmoid') \n",
    "    ])\n",
    "\n",
    "    # Compile before training\n",
    "    model.compile(\n",
    "        optimizer = 'adam',\n",
    "        # sparse_categorical_crossentropy for integer categorical outputs (categorical_crossentropy for one hot encoded categories)\n",
    "        loss = 'sparse_categorical_crossentropy',  \n",
    "        metrics = ['accuracy']\n",
    "    )\n",
    "\n",
    "    # Train the model\n",
    "    model.fit(X_train, y_train, epochs = 5)\n",
    "    return model"
   ]
  },
  {
   "cell_type": "code",
   "execution_count": 7,
   "id": "fe2ace9f-cdb2-472d-91c8-5e053219dd27",
   "metadata": {
    "tags": []
   },
   "outputs": [
    {
     "name": "stdout",
     "output_type": "stream",
     "text": [
      "Epoch 1/5\n",
      "1875/1875 [==============================] - 1s 660us/step - loss: 10.0328 - accuracy: 0.8373\n",
      "Epoch 2/5\n",
      "1875/1875 [==============================] - 1s 620us/step - loss: 6.0395 - accuracy: 0.8785\n",
      "Epoch 3/5\n",
      "1875/1875 [==============================] - 1s 662us/step - loss: 5.6983 - accuracy: 0.8820\n",
      "Epoch 4/5\n",
      "1875/1875 [==============================] - 1s 596us/step - loss: 5.5893 - accuracy: 0.8845\n",
      "Epoch 5/5\n",
      "1875/1875 [==============================] - 1s 603us/step - loss: 5.5154 - accuracy: 0.8867\n"
     ]
    }
   ],
   "source": [
    "model_1 = SingleLayerModel(X_train, y_train)"
   ]
  },
  {
   "cell_type": "code",
   "execution_count": 8,
   "id": "4c38bac0-ee49-4bd0-9ef9-656297676ff1",
   "metadata": {
    "tags": []
   },
   "outputs": [
    {
     "name": "stdout",
     "output_type": "stream",
     "text": [
      "313/313 [==============================] - 0s 470us/step - loss: 5.4448 - accuracy: 0.8950\n"
     ]
    },
    {
     "data": {
      "text/plain": [
       "[5.444810390472412, 0.8949999809265137]"
      ]
     },
     "execution_count": 8,
     "metadata": {},
     "output_type": "execute_result"
    }
   ],
   "source": [
    "model_1.evaluate(X_test, y_test)"
   ]
  },
  {
   "cell_type": "code",
   "execution_count": 9,
   "id": "10f95977-a12b-4d43-8045-5e89ac70f000",
   "metadata": {
    "tags": []
   },
   "outputs": [
    {
     "name": "stdout",
     "output_type": "stream",
     "text": [
      "Epoch 1/5\n",
      "1875/1875 [==============================] - 1s 566us/step - loss: 0.4700 - accuracy: 0.8772\n",
      "Epoch 2/5\n",
      "1875/1875 [==============================] - 1s 534us/step - loss: 0.3039 - accuracy: 0.9156\n",
      "Epoch 3/5\n",
      "1875/1875 [==============================] - 1s 571us/step - loss: 0.2839 - accuracy: 0.9208\n",
      "Epoch 4/5\n",
      "1875/1875 [==============================] - 1s 593us/step - loss: 0.2729 - accuracy: 0.9233\n",
      "Epoch 5/5\n",
      "1875/1875 [==============================] - 1s 606us/step - loss: 0.2667 - accuracy: 0.9251\n"
     ]
    }
   ],
   "source": [
    "# Train with normalized data\n",
    "X_train_normalized, X_test_normalized = X_train / 255.0, X_test / 255.0\n",
    "model_2 = SingleLayerModel(X_train_normalized, y_train)"
   ]
  },
  {
   "cell_type": "code",
   "execution_count": 10,
   "id": "eb01218b-cc92-4ff8-a224-450c049f2971",
   "metadata": {
    "tags": []
   },
   "outputs": [
    {
     "name": "stdout",
     "output_type": "stream",
     "text": [
      "313/313 [==============================] - 0s 517us/step - loss: 0.2664 - accuracy: 0.9265\n"
     ]
    },
    {
     "data": {
      "text/plain": [
       "[0.26640400290489197, 0.9265000224113464]"
      ]
     },
     "execution_count": 10,
     "metadata": {},
     "output_type": "execute_result"
    }
   ],
   "source": [
    "model_2.evaluate(X_test_normalized, y_test)"
   ]
  },
  {
   "cell_type": "code",
   "execution_count": 11,
   "id": "60daf6ec-1123-4bd4-8776-2faa196a5b30",
   "metadata": {
    "tags": []
   },
   "outputs": [],
   "source": [
    "# Add hidden layers\n",
    "def MultiLayerModel(X_train, y_train):\n",
    "    # Build the model\n",
    "    model = tf.keras.Sequential([\n",
    "        # Input shape is the size of the image 28 x 28, this layer will flatten it into 28x28 = 784\n",
    "        tf.keras.layers.Flatten(input_shape = (28, 28)),\n",
    "        # Hidden layer, no need to specify input shape, units = number of neurons\n",
    "        tf.keras.layers.Dense(units = 100, activation = 'relu'),\n",
    "        # Single layer, Dense means all the neurons are interconnected with previous layer, units = number of neurons (10 in this case for 10 classes) \n",
    "        tf.keras.layers.Dense(units = 10, activation = 'sigmoid') \n",
    "    ])\n",
    "\n",
    "    # Compile before training\n",
    "    model.compile(\n",
    "        optimizer = 'adam',\n",
    "        # sparse_categorical_crossentropy for integer categorical outputs (categorical_crossentropy for one hot encoded categories)\n",
    "        loss = 'sparse_categorical_crossentropy',  \n",
    "        metrics = ['accuracy']\n",
    "    )\n",
    "\n",
    "    # Train the model\n",
    "    model.fit(X_train, y_train, epochs = 5)\n",
    "    return model"
   ]
  },
  {
   "cell_type": "code",
   "execution_count": 12,
   "id": "260da7ed-1194-4ca8-8d61-7019db417d17",
   "metadata": {
    "tags": []
   },
   "outputs": [
    {
     "name": "stdout",
     "output_type": "stream",
     "text": [
      "Epoch 1/5\n",
      "1875/1875 [==============================] - 2s 1ms/step - loss: 2.1160 - accuracy: 0.8291\n",
      "Epoch 2/5\n",
      "1875/1875 [==============================] - 2s 1ms/step - loss: 0.4159 - accuracy: 0.9021\n",
      "Epoch 3/5\n",
      "1875/1875 [==============================] - 2s 970us/step - loss: 0.2973 - accuracy: 0.9252\n",
      "Epoch 4/5\n",
      "1875/1875 [==============================] - 2s 949us/step - loss: 0.2531 - accuracy: 0.9371\n",
      "Epoch 5/5\n",
      "1875/1875 [==============================] - 2s 946us/step - loss: 0.2296 - accuracy: 0.9431\n"
     ]
    }
   ],
   "source": [
    "model_3 = MultiLayerModel(X_train, y_train)"
   ]
  },
  {
   "cell_type": "code",
   "execution_count": 13,
   "id": "bf5cbae0-0df0-4b33-b8fd-fc99f4858b68",
   "metadata": {
    "tags": []
   },
   "outputs": [
    {
     "name": "stdout",
     "output_type": "stream",
     "text": [
      "313/313 [==============================] - 0s 634us/step - loss: 0.2458 - accuracy: 0.9454\n"
     ]
    },
    {
     "data": {
      "text/plain": [
       "[0.2458166927099228, 0.9453999996185303]"
      ]
     },
     "execution_count": 13,
     "metadata": {},
     "output_type": "execute_result"
    }
   ],
   "source": [
    "model_3.evaluate(X_test, y_test)"
   ]
  },
  {
   "cell_type": "code",
   "execution_count": 14,
   "id": "6550eeb8-e76f-48fd-81ae-913280e8b6a2",
   "metadata": {
    "tags": []
   },
   "outputs": [
    {
     "name": "stdout",
     "output_type": "stream",
     "text": [
      "Epoch 1/5\n",
      "1875/1875 [==============================] - 2s 981us/step - loss: 0.2703 - accuracy: 0.9232\n",
      "Epoch 2/5\n",
      "1875/1875 [==============================] - 2s 984us/step - loss: 0.1241 - accuracy: 0.9632\n",
      "Epoch 3/5\n",
      "1875/1875 [==============================] - 2s 955us/step - loss: 0.0867 - accuracy: 0.9743\n",
      "Epoch 4/5\n",
      "1875/1875 [==============================] - 2s 922us/step - loss: 0.0667 - accuracy: 0.9801\n",
      "Epoch 5/5\n",
      "1875/1875 [==============================] - 2s 934us/step - loss: 0.0536 - accuracy: 0.9832\n"
     ]
    }
   ],
   "source": [
    "# Train with normalized data\n",
    "model_4 = MultiLayerModel(X_train_normalized, y_train)"
   ]
  },
  {
   "cell_type": "code",
   "execution_count": 15,
   "id": "abb6d475-79ad-49b4-a619-b5dcb9e5ac07",
   "metadata": {
    "tags": []
   },
   "outputs": [
    {
     "name": "stdout",
     "output_type": "stream",
     "text": [
      "313/313 [==============================] - 0s 623us/step - loss: 0.0765 - accuracy: 0.9770\n"
     ]
    },
    {
     "data": {
      "text/plain": [
       "[0.076529860496521, 0.9769999980926514]"
      ]
     },
     "execution_count": 15,
     "metadata": {},
     "output_type": "execute_result"
    }
   ],
   "source": [
    "model_4.evaluate(X_test_normalized, y_test)"
   ]
  },
  {
   "cell_type": "code",
   "execution_count": 19,
   "id": "892f97f9-ad72-40fd-aebd-398d7b463371",
   "metadata": {
    "tags": []
   },
   "outputs": [
    {
     "name": "stdout",
     "output_type": "stream",
     "text": [
      "313/313 [==============================] - 0s 505us/step\n"
     ]
    },
    {
     "data": {
      "text/plain": [
       "7"
      ]
     },
     "execution_count": 19,
     "metadata": {},
     "output_type": "execute_result"
    }
   ],
   "source": [
    "np.argmax(model_4.predict(X_test_normalized)[0])"
   ]
  },
  {
   "cell_type": "code",
   "execution_count": 20,
   "id": "e294e803-f8f0-4989-8cd6-9328adf7e312",
   "metadata": {
    "tags": []
   },
   "outputs": [
    {
     "data": {
      "text/plain": [
       "7"
      ]
     },
     "execution_count": 20,
     "metadata": {},
     "output_type": "execute_result"
    }
   ],
   "source": [
    "y_test[0]"
   ]
  }
 ],
 "metadata": {
  "kernelspec": {
   "display_name": "Python 3 (ipykernel)",
   "language": "python",
   "name": "python3"
  },
  "language_info": {
   "codemirror_mode": {
    "name": "ipython",
    "version": 3
   },
   "file_extension": ".py",
   "mimetype": "text/x-python",
   "name": "python",
   "nbconvert_exporter": "python",
   "pygments_lexer": "ipython3",
   "version": "3.10.6"
  }
 },
 "nbformat": 4,
 "nbformat_minor": 5
}
